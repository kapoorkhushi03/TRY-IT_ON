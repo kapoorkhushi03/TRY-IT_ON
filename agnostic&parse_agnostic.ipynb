{
  "nbformat": 4,
  "nbformat_minor": 0,
  "metadata": {
    "colab": {
      "provenance": [],
      "gpuType": "T4",
      "include_colab_link": true
    },
    "kernelspec": {
      "name": "python3",
      "display_name": "Python 3"
    },
    "language_info": {
      "name": "python"
    },
    "accelerator": "GPU",
    "widgets": {
      "application/vnd.jupyter.widget-state+json": {
        "6c3e45360d0b498a8fc6fb06fd250ef2": {
          "model_module": "@jupyter-widgets/controls",
          "model_name": "HBoxModel",
          "model_module_version": "1.5.0",
          "state": {
            "_dom_classes": [],
            "_model_module": "@jupyter-widgets/controls",
            "_model_module_version": "1.5.0",
            "_model_name": "HBoxModel",
            "_view_count": null,
            "_view_module": "@jupyter-widgets/controls",
            "_view_module_version": "1.5.0",
            "_view_name": "HBoxView",
            "box_style": "",
            "children": [
              "IPY_MODEL_52780af89dbd44bc87f59d584689900e",
              "IPY_MODEL_4b34b7bb79fe4785bdfe0d57ed69e0d7",
              "IPY_MODEL_28935a57937440c58faa11ecd3b97f9f"
            ],
            "layout": "IPY_MODEL_f3caaeac91cb48a780c823ab9fd7e699"
          }
        },
        "52780af89dbd44bc87f59d584689900e": {
          "model_module": "@jupyter-widgets/controls",
          "model_name": "HTMLModel",
          "model_module_version": "1.5.0",
          "state": {
            "_dom_classes": [],
            "_model_module": "@jupyter-widgets/controls",
            "_model_module_version": "1.5.0",
            "_model_name": "HTMLModel",
            "_view_count": null,
            "_view_module": "@jupyter-widgets/controls",
            "_view_module_version": "1.5.0",
            "_view_name": "HTMLView",
            "description": "",
            "description_tooltip": null,
            "layout": "IPY_MODEL_24ad0d676d504dd5bb3d4018bfa76971",
            "placeholder": "​",
            "style": "IPY_MODEL_5262f96a595b4626bb107ccc5f591b12",
            "value": "100%"
          }
        },
        "4b34b7bb79fe4785bdfe0d57ed69e0d7": {
          "model_module": "@jupyter-widgets/controls",
          "model_name": "FloatProgressModel",
          "model_module_version": "1.5.0",
          "state": {
            "_dom_classes": [],
            "_model_module": "@jupyter-widgets/controls",
            "_model_module_version": "1.5.0",
            "_model_name": "FloatProgressModel",
            "_view_count": null,
            "_view_module": "@jupyter-widgets/controls",
            "_view_module_version": "1.5.0",
            "_view_name": "ProgressView",
            "bar_style": "success",
            "description": "",
            "description_tooltip": null,
            "layout": "IPY_MODEL_418fe9af92f4489d84d2de13855c7018",
            "max": 103,
            "min": 0,
            "orientation": "horizontal",
            "style": "IPY_MODEL_ad6ecfdfd875495096474da9443bfb04",
            "value": 103
          }
        },
        "28935a57937440c58faa11ecd3b97f9f": {
          "model_module": "@jupyter-widgets/controls",
          "model_name": "HTMLModel",
          "model_module_version": "1.5.0",
          "state": {
            "_dom_classes": [],
            "_model_module": "@jupyter-widgets/controls",
            "_model_module_version": "1.5.0",
            "_model_name": "HTMLModel",
            "_view_count": null,
            "_view_module": "@jupyter-widgets/controls",
            "_view_module_version": "1.5.0",
            "_view_name": "HTMLView",
            "description": "",
            "description_tooltip": null,
            "layout": "IPY_MODEL_54656baa88dc410ebf2b83c6183fa74a",
            "placeholder": "​",
            "style": "IPY_MODEL_524e230de55a413d96cc4b1f3a8a13c1",
            "value": " 103/103 [00:53&lt;00:00,  2.04it/s]"
          }
        },
        "f3caaeac91cb48a780c823ab9fd7e699": {
          "model_module": "@jupyter-widgets/base",
          "model_name": "LayoutModel",
          "model_module_version": "1.2.0",
          "state": {
            "_model_module": "@jupyter-widgets/base",
            "_model_module_version": "1.2.0",
            "_model_name": "LayoutModel",
            "_view_count": null,
            "_view_module": "@jupyter-widgets/base",
            "_view_module_version": "1.2.0",
            "_view_name": "LayoutView",
            "align_content": null,
            "align_items": null,
            "align_self": null,
            "border": null,
            "bottom": null,
            "display": null,
            "flex": null,
            "flex_flow": null,
            "grid_area": null,
            "grid_auto_columns": null,
            "grid_auto_flow": null,
            "grid_auto_rows": null,
            "grid_column": null,
            "grid_gap": null,
            "grid_row": null,
            "grid_template_areas": null,
            "grid_template_columns": null,
            "grid_template_rows": null,
            "height": null,
            "justify_content": null,
            "justify_items": null,
            "left": null,
            "margin": null,
            "max_height": null,
            "max_width": null,
            "min_height": null,
            "min_width": null,
            "object_fit": null,
            "object_position": null,
            "order": null,
            "overflow": null,
            "overflow_x": null,
            "overflow_y": null,
            "padding": null,
            "right": null,
            "top": null,
            "visibility": null,
            "width": null
          }
        },
        "24ad0d676d504dd5bb3d4018bfa76971": {
          "model_module": "@jupyter-widgets/base",
          "model_name": "LayoutModel",
          "model_module_version": "1.2.0",
          "state": {
            "_model_module": "@jupyter-widgets/base",
            "_model_module_version": "1.2.0",
            "_model_name": "LayoutModel",
            "_view_count": null,
            "_view_module": "@jupyter-widgets/base",
            "_view_module_version": "1.2.0",
            "_view_name": "LayoutView",
            "align_content": null,
            "align_items": null,
            "align_self": null,
            "border": null,
            "bottom": null,
            "display": null,
            "flex": null,
            "flex_flow": null,
            "grid_area": null,
            "grid_auto_columns": null,
            "grid_auto_flow": null,
            "grid_auto_rows": null,
            "grid_column": null,
            "grid_gap": null,
            "grid_row": null,
            "grid_template_areas": null,
            "grid_template_columns": null,
            "grid_template_rows": null,
            "height": null,
            "justify_content": null,
            "justify_items": null,
            "left": null,
            "margin": null,
            "max_height": null,
            "max_width": null,
            "min_height": null,
            "min_width": null,
            "object_fit": null,
            "object_position": null,
            "order": null,
            "overflow": null,
            "overflow_x": null,
            "overflow_y": null,
            "padding": null,
            "right": null,
            "top": null,
            "visibility": null,
            "width": null
          }
        },
        "5262f96a595b4626bb107ccc5f591b12": {
          "model_module": "@jupyter-widgets/controls",
          "model_name": "DescriptionStyleModel",
          "model_module_version": "1.5.0",
          "state": {
            "_model_module": "@jupyter-widgets/controls",
            "_model_module_version": "1.5.0",
            "_model_name": "DescriptionStyleModel",
            "_view_count": null,
            "_view_module": "@jupyter-widgets/base",
            "_view_module_version": "1.2.0",
            "_view_name": "StyleView",
            "description_width": ""
          }
        },
        "418fe9af92f4489d84d2de13855c7018": {
          "model_module": "@jupyter-widgets/base",
          "model_name": "LayoutModel",
          "model_module_version": "1.2.0",
          "state": {
            "_model_module": "@jupyter-widgets/base",
            "_model_module_version": "1.2.0",
            "_model_name": "LayoutModel",
            "_view_count": null,
            "_view_module": "@jupyter-widgets/base",
            "_view_module_version": "1.2.0",
            "_view_name": "LayoutView",
            "align_content": null,
            "align_items": null,
            "align_self": null,
            "border": null,
            "bottom": null,
            "display": null,
            "flex": null,
            "flex_flow": null,
            "grid_area": null,
            "grid_auto_columns": null,
            "grid_auto_flow": null,
            "grid_auto_rows": null,
            "grid_column": null,
            "grid_gap": null,
            "grid_row": null,
            "grid_template_areas": null,
            "grid_template_columns": null,
            "grid_template_rows": null,
            "height": null,
            "justify_content": null,
            "justify_items": null,
            "left": null,
            "margin": null,
            "max_height": null,
            "max_width": null,
            "min_height": null,
            "min_width": null,
            "object_fit": null,
            "object_position": null,
            "order": null,
            "overflow": null,
            "overflow_x": null,
            "overflow_y": null,
            "padding": null,
            "right": null,
            "top": null,
            "visibility": null,
            "width": null
          }
        },
        "ad6ecfdfd875495096474da9443bfb04": {
          "model_module": "@jupyter-widgets/controls",
          "model_name": "ProgressStyleModel",
          "model_module_version": "1.5.0",
          "state": {
            "_model_module": "@jupyter-widgets/controls",
            "_model_module_version": "1.5.0",
            "_model_name": "ProgressStyleModel",
            "_view_count": null,
            "_view_module": "@jupyter-widgets/base",
            "_view_module_version": "1.2.0",
            "_view_name": "StyleView",
            "bar_color": null,
            "description_width": ""
          }
        },
        "54656baa88dc410ebf2b83c6183fa74a": {
          "model_module": "@jupyter-widgets/base",
          "model_name": "LayoutModel",
          "model_module_version": "1.2.0",
          "state": {
            "_model_module": "@jupyter-widgets/base",
            "_model_module_version": "1.2.0",
            "_model_name": "LayoutModel",
            "_view_count": null,
            "_view_module": "@jupyter-widgets/base",
            "_view_module_version": "1.2.0",
            "_view_name": "LayoutView",
            "align_content": null,
            "align_items": null,
            "align_self": null,
            "border": null,
            "bottom": null,
            "display": null,
            "flex": null,
            "flex_flow": null,
            "grid_area": null,
            "grid_auto_columns": null,
            "grid_auto_flow": null,
            "grid_auto_rows": null,
            "grid_column": null,
            "grid_gap": null,
            "grid_row": null,
            "grid_template_areas": null,
            "grid_template_columns": null,
            "grid_template_rows": null,
            "height": null,
            "justify_content": null,
            "justify_items": null,
            "left": null,
            "margin": null,
            "max_height": null,
            "max_width": null,
            "min_height": null,
            "min_width": null,
            "object_fit": null,
            "object_position": null,
            "order": null,
            "overflow": null,
            "overflow_x": null,
            "overflow_y": null,
            "padding": null,
            "right": null,
            "top": null,
            "visibility": null,
            "width": null
          }
        },
        "524e230de55a413d96cc4b1f3a8a13c1": {
          "model_module": "@jupyter-widgets/controls",
          "model_name": "DescriptionStyleModel",
          "model_module_version": "1.5.0",
          "state": {
            "_model_module": "@jupyter-widgets/controls",
            "_model_module_version": "1.5.0",
            "_model_name": "DescriptionStyleModel",
            "_view_count": null,
            "_view_module": "@jupyter-widgets/base",
            "_view_module_version": "1.2.0",
            "_view_name": "StyleView",
            "description_width": ""
          }
        }
      }
    }
  },
  "cells": [
    {
      "cell_type": "markdown",
      "metadata": {
        "id": "view-in-github",
        "colab_type": "text"
      },
      "source": [
        "<a href=\"https://colab.research.google.com/github/kapoorkhushi03/TRY-IT_ON/blob/main/agnostic%26parse_agnostic.ipynb\" target=\"_parent\"><img src=\"https://colab.research.google.com/assets/colab-badge.svg\" alt=\"Open In Colab\"/></a>"
      ]
    },
    {
      "cell_type": "code",
      "source": [],
      "metadata": {
        "id": "gFeCem_5DvW2"
      },
      "execution_count": null,
      "outputs": []
    },
    {
      "cell_type": "code",
      "execution_count": null,
      "metadata": {
        "colab": {
          "base_uri": "https://localhost:8080/"
        },
        "id": "NzWkrT-2_-P9",
        "outputId": "608be34c-37b7-43a7-93b2-7a44409f158e"
      },
      "outputs": [
        {
          "output_type": "stream",
          "name": "stderr",
          "text": [
            "  1%|▏         | 1/77 [00:00<00:17,  4.45it/s]"
          ]
        },
        {
          "output_type": "stream",
          "name": "stdout",
          "text": [
            "Error processing 00000_00_keypoints.json: [Errno 2] No such file or directory: '/content/drive/MyDrive/data/openpose_json/00000_00_keypoints.json'\n"
          ]
        },
        {
          "output_type": "stream",
          "name": "stderr",
          "text": [
            "\r  3%|▎         | 2/77 [00:00<00:19,  3.86it/s]"
          ]
        },
        {
          "output_type": "stream",
          "name": "stdout",
          "text": [
            "Error processing 00001_00_keypoints.json: [Errno 2] No such file or directory: '/content/drive/MyDrive/data/openpose_json/00001_00_keypoints.json'\n"
          ]
        },
        {
          "output_type": "stream",
          "name": "stderr",
          "text": [
            "\r  4%|▍         | 3/77 [00:00<00:18,  4.04it/s]"
          ]
        },
        {
          "output_type": "stream",
          "name": "stdout",
          "text": [
            "Error processing 00002_00_keypoints.json: [Errno 2] No such file or directory: '/content/drive/MyDrive/data/openpose_json/00002_00_keypoints.json'\n"
          ]
        },
        {
          "output_type": "stream",
          "name": "stderr",
          "text": [
            "\r  5%|▌         | 4/77 [00:01<00:23,  3.17it/s]"
          ]
        },
        {
          "output_type": "stream",
          "name": "stdout",
          "text": [
            "Error processing 00003_00_keypoints.json: [Errno 2] No such file or directory: '/content/drive/MyDrive/data/openpose_json/00003_00_keypoints.json'\n"
          ]
        },
        {
          "output_type": "stream",
          "name": "stderr",
          "text": [
            "\r  6%|▋         | 5/77 [00:01<00:21,  3.28it/s]"
          ]
        },
        {
          "output_type": "stream",
          "name": "stdout",
          "text": [
            "Error processing 00005_00_keypoints.json: [Errno 2] No such file or directory: '/content/drive/MyDrive/data/openpose_json/00005_00_keypoints.json'\n"
          ]
        },
        {
          "output_type": "stream",
          "name": "stderr",
          "text": [
            "\r  8%|▊         | 6/77 [00:01<00:20,  3.49it/s]"
          ]
        },
        {
          "output_type": "stream",
          "name": "stdout",
          "text": [
            "Error processing 00007_00_keypoints.json: [Errno 2] No such file or directory: '/content/drive/MyDrive/data/openpose_json/00007_00_keypoints.json'\n"
          ]
        },
        {
          "output_type": "stream",
          "name": "stderr",
          "text": [
            " 10%|█         | 8/77 [00:02<00:18,  3.66it/s]"
          ]
        },
        {
          "output_type": "stream",
          "name": "stdout",
          "text": [
            "Error processing 00009_00_keypoints.json: [Errno 2] No such file or directory: '/content/drive/MyDrive/data/openpose_json/00009_00_keypoints.json'\n",
            "Error processing 00010_00_keypoints.json: [Errno 2] No such file or directory: '/content/drive/MyDrive/data/openpose_json/00010_00_keypoints.json'\n"
          ]
        },
        {
          "output_type": "stream",
          "name": "stderr",
          "text": [
            " 13%|█▎        | 10/77 [00:02<00:17,  3.86it/s]"
          ]
        },
        {
          "output_type": "stream",
          "name": "stdout",
          "text": [
            "Error processing 00011_00_keypoints.json: [Errno 2] No such file or directory: '/content/drive/MyDrive/data/openpose_json/00011_00_keypoints.json'\n",
            "Error processing 00012_00_keypoints.json: [Errno 2] No such file or directory: '/content/drive/MyDrive/data/openpose_json/00012_00_keypoints.json'\n"
          ]
        },
        {
          "output_type": "stream",
          "name": "stderr",
          "text": [
            "\r 14%|█▍        | 11/77 [00:02<00:16,  4.12it/s]"
          ]
        },
        {
          "output_type": "stream",
          "name": "stdout",
          "text": [
            "Error processing 00015_00_keypoints.json: [Errno 2] No such file or directory: '/content/drive/MyDrive/data/openpose_json/00015_00_keypoints.json'\n"
          ]
        },
        {
          "output_type": "stream",
          "name": "stderr",
          "text": [
            "\r 16%|█▌        | 12/77 [00:03<00:15,  4.16it/s]"
          ]
        },
        {
          "output_type": "stream",
          "name": "stdout",
          "text": [
            "Error processing 00019_00_keypoints.json: [Errno 2] No such file or directory: '/content/drive/MyDrive/data/openpose_json/00019_00_keypoints.json'\n"
          ]
        },
        {
          "output_type": "stream",
          "name": "stderr",
          "text": [
            "\r 17%|█▋        | 13/77 [00:03<00:17,  3.57it/s]"
          ]
        },
        {
          "output_type": "stream",
          "name": "stdout",
          "text": [
            "Error processing 00023_00_keypoints.json: [Errno 2] No such file or directory: '/content/drive/MyDrive/data/openpose_json/00023_00_keypoints.json'\n"
          ]
        },
        {
          "output_type": "stream",
          "name": "stderr",
          "text": [
            "\r 18%|█▊        | 14/77 [00:03<00:16,  3.85it/s]"
          ]
        },
        {
          "output_type": "stream",
          "name": "stdout",
          "text": [
            "Error processing 00024_00_keypoints.json: [Errno 2] No such file or directory: '/content/drive/MyDrive/data/openpose_json/00024_00_keypoints.json'\n"
          ]
        },
        {
          "output_type": "stream",
          "name": "stderr",
          "text": [
            "\r 19%|█▉        | 15/77 [00:04<00:18,  3.43it/s]"
          ]
        },
        {
          "output_type": "stream",
          "name": "stdout",
          "text": [
            "Error processing 00025_00_keypoints.json: [Errno 2] No such file or directory: '/content/drive/MyDrive/data/openpose_json/00025_00_keypoints.json'\n"
          ]
        },
        {
          "output_type": "stream",
          "name": "stderr",
          "text": [
            "\r 21%|██        | 16/77 [00:04<00:16,  3.66it/s]"
          ]
        },
        {
          "output_type": "stream",
          "name": "stdout",
          "text": [
            "Error processing 00026_00_keypoints.json: [Errno 2] No such file or directory: '/content/drive/MyDrive/data/openpose_json/00026_00_keypoints.json'\n"
          ]
        },
        {
          "output_type": "stream",
          "name": "stderr",
          "text": [
            "\r 22%|██▏       | 17/77 [00:04<00:18,  3.16it/s]"
          ]
        },
        {
          "output_type": "stream",
          "name": "stdout",
          "text": [
            "Error processing 00028_00_keypoints.json: [Errno 2] No such file or directory: '/content/drive/MyDrive/data/openpose_json/00028_00_keypoints.json'\n"
          ]
        },
        {
          "output_type": "stream",
          "name": "stderr",
          "text": [
            " 25%|██▍       | 19/77 [00:05<00:16,  3.43it/s]"
          ]
        },
        {
          "output_type": "stream",
          "name": "stdout",
          "text": [
            "Error processing 00029_00_keypoints.json: [Errno 2] No such file or directory: '/content/drive/MyDrive/data/openpose_json/00029_00_keypoints.json'\n",
            "Error processing 00031_00_keypoints.json: [Errno 2] No such file or directory: '/content/drive/MyDrive/data/openpose_json/00031_00_keypoints.json'\n"
          ]
        },
        {
          "output_type": "stream",
          "name": "stderr",
          "text": [
            "\r 26%|██▌       | 20/77 [00:05<00:16,  3.40it/s]"
          ]
        },
        {
          "output_type": "stream",
          "name": "stdout",
          "text": [
            "Error processing 00033_00_keypoints.json: [Errno 2] No such file or directory: '/content/drive/MyDrive/data/openpose_json/00033_00_keypoints.json'\n"
          ]
        },
        {
          "output_type": "stream",
          "name": "stderr",
          "text": [
            "\r 27%|██▋       | 21/77 [00:05<00:15,  3.50it/s]"
          ]
        },
        {
          "output_type": "stream",
          "name": "stdout",
          "text": [
            "Error processing 00036_00_keypoints.json: [Errno 2] No such file or directory: '/content/drive/MyDrive/data/openpose_json/00036_00_keypoints.json'\n"
          ]
        },
        {
          "output_type": "stream",
          "name": "stderr",
          "text": [
            "\r 29%|██▊       | 22/77 [00:06<00:16,  3.24it/s]"
          ]
        },
        {
          "output_type": "stream",
          "name": "stdout",
          "text": [
            "Error processing 00038_00_keypoints.json: [Errno 2] No such file or directory: '/content/drive/MyDrive/data/openpose_json/00038_00_keypoints.json'\n"
          ]
        },
        {
          "output_type": "stream",
          "name": "stderr",
          "text": [
            "\r 30%|██▉       | 23/77 [00:06<00:17,  3.03it/s]"
          ]
        },
        {
          "output_type": "stream",
          "name": "stdout",
          "text": [
            "Error processing 00040_00_keypoints.json: [Errno 2] No such file or directory: '/content/drive/MyDrive/data/openpose_json/00040_00_keypoints.json'\n"
          ]
        },
        {
          "output_type": "stream",
          "name": "stderr",
          "text": [
            "\r 31%|███       | 24/77 [00:07<00:17,  2.95it/s]"
          ]
        },
        {
          "output_type": "stream",
          "name": "stdout",
          "text": [
            "Error processing 00042_00_keypoints.json: [Errno 2] No such file or directory: '/content/drive/MyDrive/data/openpose_json/00042_00_keypoints.json'\n"
          ]
        },
        {
          "output_type": "stream",
          "name": "stderr",
          "text": [
            " 34%|███▍      | 26/77 [00:07<00:15,  3.25it/s]"
          ]
        },
        {
          "output_type": "stream",
          "name": "stdout",
          "text": [
            "Error processing 00044_00_keypoints.json: [Errno 2] No such file or directory: '/content/drive/MyDrive/data/openpose_json/00044_00_keypoints.json'\n",
            "Error processing 00045_00_keypoints.json: [Errno 2] No such file or directory: '/content/drive/MyDrive/data/openpose_json/00045_00_keypoints.json'\n"
          ]
        },
        {
          "output_type": "stream",
          "name": "stderr",
          "text": [
            "\r 35%|███▌      | 27/77 [00:08<00:16,  3.05it/s]"
          ]
        },
        {
          "output_type": "stream",
          "name": "stdout",
          "text": [
            "Error processing 00046_00_keypoints.json: [Errno 2] No such file or directory: '/content/drive/MyDrive/data/openpose_json/00046_00_keypoints.json'\n"
          ]
        },
        {
          "output_type": "stream",
          "name": "stderr",
          "text": [
            "\r 36%|███▋      | 28/77 [00:08<00:16,  2.97it/s]"
          ]
        },
        {
          "output_type": "stream",
          "name": "stdout",
          "text": [
            "Error processing 00047_00_keypoints.json: [Errno 2] No such file or directory: '/content/drive/MyDrive/data/openpose_json/00047_00_keypoints.json'\n"
          ]
        },
        {
          "output_type": "stream",
          "name": "stderr",
          "text": [
            "\r 38%|███▊      | 29/77 [00:08<00:16,  2.92it/s]"
          ]
        },
        {
          "output_type": "stream",
          "name": "stdout",
          "text": [
            "Error processing 00048_00_keypoints.json: [Errno 2] No such file or directory: '/content/drive/MyDrive/data/openpose_json/00048_00_keypoints.json'\n"
          ]
        },
        {
          "output_type": "stream",
          "name": "stderr",
          "text": [
            "\r 39%|███▉      | 30/77 [00:09<00:15,  3.07it/s]"
          ]
        },
        {
          "output_type": "stream",
          "name": "stdout",
          "text": [
            "Error processing 00049_00_keypoints.json: [Errno 2] No such file or directory: '/content/drive/MyDrive/data/openpose_json/00049_00_keypoints.json'\n"
          ]
        },
        {
          "output_type": "stream",
          "name": "stderr",
          "text": [
            "\r 40%|████      | 31/77 [00:09<00:14,  3.20it/s]"
          ]
        },
        {
          "output_type": "stream",
          "name": "stdout",
          "text": [
            "Error processing 00050_00_keypoints.json: [Errno 2] No such file or directory: '/content/drive/MyDrive/data/openpose_json/00050_00_keypoints.json'\n"
          ]
        },
        {
          "output_type": "stream",
          "name": "stderr",
          "text": [
            "\r 42%|████▏     | 32/77 [00:09<00:15,  2.97it/s]"
          ]
        },
        {
          "output_type": "stream",
          "name": "stdout",
          "text": [
            "Error processing 00052_00_keypoints.json: [Errno 2] No such file or directory: '/content/drive/MyDrive/data/openpose_json/00052_00_keypoints.json'\n"
          ]
        },
        {
          "output_type": "stream",
          "name": "stderr",
          "text": [
            "\r 43%|████▎     | 33/77 [00:09<00:13,  3.35it/s]"
          ]
        },
        {
          "output_type": "stream",
          "name": "stdout",
          "text": [
            "Error processing 00054_00_keypoints.json: [Errno 2] No such file or directory: '/content/drive/MyDrive/data/openpose_json/00054_00_keypoints.json'\n"
          ]
        },
        {
          "output_type": "stream",
          "name": "stderr",
          "text": [
            "\r 44%|████▍     | 34/77 [00:10<00:13,  3.15it/s]"
          ]
        },
        {
          "output_type": "stream",
          "name": "stdout",
          "text": [
            "Error processing 00056_00_keypoints.json: [Errno 2] No such file or directory: '/content/drive/MyDrive/data/openpose_json/00056_00_keypoints.json'\n"
          ]
        },
        {
          "output_type": "stream",
          "name": "stderr",
          "text": [
            " 47%|████▋     | 36/77 [00:10<00:10,  3.87it/s]"
          ]
        },
        {
          "output_type": "stream",
          "name": "stdout",
          "text": [
            "Error processing 00058_00_keypoints.json: [Errno 2] No such file or directory: '/content/drive/MyDrive/data/openpose_json/00058_00_keypoints.json'\n",
            "Error processing 00059_00_keypoints.json: [Errno 2] No such file or directory: '/content/drive/MyDrive/data/openpose_json/00059_00_keypoints.json'\n"
          ]
        },
        {
          "output_type": "stream",
          "name": "stderr",
          "text": [
            "\r 48%|████▊     | 37/77 [00:10<00:10,  3.98it/s]"
          ]
        },
        {
          "output_type": "stream",
          "name": "stdout",
          "text": [
            "Error processing 00061_00_keypoints.json: [Errno 2] No such file or directory: '/content/drive/MyDrive/data/openpose_json/00061_00_keypoints.json'\n"
          ]
        },
        {
          "output_type": "stream",
          "name": "stderr",
          "text": [
            "\r 49%|████▉     | 38/77 [00:11<00:10,  3.59it/s]"
          ]
        },
        {
          "output_type": "stream",
          "name": "stdout",
          "text": [
            "Error processing 00062_00_keypoints.json: [Errno 2] No such file or directory: '/content/drive/MyDrive/data/openpose_json/00062_00_keypoints.json'\n"
          ]
        },
        {
          "output_type": "stream",
          "name": "stderr",
          "text": [
            "\r 51%|█████     | 39/77 [00:11<00:10,  3.76it/s]"
          ]
        },
        {
          "output_type": "stream",
          "name": "stdout",
          "text": [
            "Error processing 00066_00_keypoints.json: [Errno 2] No such file or directory: '/content/drive/MyDrive/data/openpose_json/00066_00_keypoints.json'\n"
          ]
        },
        {
          "output_type": "stream",
          "name": "stderr",
          "text": [
            " 53%|█████▎    | 41/77 [00:11<00:08,  4.06it/s]"
          ]
        },
        {
          "output_type": "stream",
          "name": "stdout",
          "text": [
            "Error processing 00068_00_keypoints.json: [Errno 2] No such file or directory: '/content/drive/MyDrive/data/openpose_json/00068_00_keypoints.json'\n",
            "Error processing 00070_00_keypoints.json: [Errno 2] No such file or directory: '/content/drive/MyDrive/data/openpose_json/00070_00_keypoints.json'\n"
          ]
        },
        {
          "output_type": "stream",
          "name": "stderr",
          "text": [
            "\r 55%|█████▍    | 42/77 [00:12<00:08,  3.94it/s]"
          ]
        },
        {
          "output_type": "stream",
          "name": "stdout",
          "text": [
            "Error processing 00072_00_keypoints.json: [Errno 2] No such file or directory: '/content/drive/MyDrive/data/openpose_json/00072_00_keypoints.json'\n"
          ]
        },
        {
          "output_type": "stream",
          "name": "stderr",
          "text": [
            "\r 56%|█████▌    | 43/77 [00:12<00:08,  4.12it/s]"
          ]
        },
        {
          "output_type": "stream",
          "name": "stdout",
          "text": [
            "Error processing 00073_00_keypoints.json: [Errno 2] No such file or directory: '/content/drive/MyDrive/data/openpose_json/00073_00_keypoints.json'\n"
          ]
        },
        {
          "output_type": "stream",
          "name": "stderr",
          "text": [
            "\r 57%|█████▋    | 44/77 [00:12<00:08,  3.92it/s]"
          ]
        },
        {
          "output_type": "stream",
          "name": "stdout",
          "text": [
            "Error processing 00076_00_keypoints.json: [Errno 2] No such file or directory: '/content/drive/MyDrive/data/openpose_json/00076_00_keypoints.json'\n"
          ]
        },
        {
          "output_type": "stream",
          "name": "stderr",
          "text": [
            "\r 58%|█████▊    | 45/77 [00:13<00:09,  3.51it/s]"
          ]
        },
        {
          "output_type": "stream",
          "name": "stdout",
          "text": [
            "Error processing 00078_00_keypoints.json: [Errno 2] No such file or directory: '/content/drive/MyDrive/data/openpose_json/00078_00_keypoints.json'\n"
          ]
        },
        {
          "output_type": "stream",
          "name": "stderr",
          "text": [
            "\r 60%|█████▉    | 46/77 [00:13<00:08,  3.59it/s]"
          ]
        },
        {
          "output_type": "stream",
          "name": "stdout",
          "text": [
            "Error processing 00080_00_keypoints.json: [Errno 2] No such file or directory: '/content/drive/MyDrive/data/openpose_json/00080_00_keypoints.json'\n"
          ]
        },
        {
          "output_type": "stream",
          "name": "stderr",
          "text": [
            "\r 61%|██████    | 47/77 [00:13<00:08,  3.68it/s]"
          ]
        },
        {
          "output_type": "stream",
          "name": "stdout",
          "text": [
            "Error processing 00081_00_keypoints.json: [Errno 2] No such file or directory: '/content/drive/MyDrive/data/openpose_json/00081_00_keypoints.json'\n"
          ]
        },
        {
          "output_type": "stream",
          "name": "stderr",
          "text": [
            "\r 62%|██████▏   | 48/77 [00:13<00:08,  3.44it/s]"
          ]
        },
        {
          "output_type": "stream",
          "name": "stdout",
          "text": [
            "Error processing 00083_00_keypoints.json: [Errno 2] No such file or directory: '/content/drive/MyDrive/data/openpose_json/00083_00_keypoints.json'\n"
          ]
        },
        {
          "output_type": "stream",
          "name": "stderr",
          "text": [
            "\r 64%|██████▎   | 49/77 [00:14<00:07,  3.56it/s]"
          ]
        },
        {
          "output_type": "stream",
          "name": "stdout",
          "text": [
            "Error processing 00085_00_keypoints.json: [Errno 2] No such file or directory: '/content/drive/MyDrive/data/openpose_json/00085_00_keypoints.json'\n"
          ]
        },
        {
          "output_type": "stream",
          "name": "stderr",
          "text": [
            "\r 65%|██████▍   | 50/77 [00:14<00:06,  3.87it/s]"
          ]
        },
        {
          "output_type": "stream",
          "name": "stdout",
          "text": [
            "Error processing 00087_00_keypoints.json: [Errno 2] No such file or directory: '/content/drive/MyDrive/data/openpose_json/00087_00_keypoints.json'\n"
          ]
        },
        {
          "output_type": "stream",
          "name": "stderr",
          "text": [
            "\r 66%|██████▌   | 51/77 [00:14<00:07,  3.43it/s]"
          ]
        },
        {
          "output_type": "stream",
          "name": "stdout",
          "text": [
            "Error processing 00089_00_keypoints.json: [Errno 2] No such file or directory: '/content/drive/MyDrive/data/openpose_json/00089_00_keypoints.json'\n"
          ]
        },
        {
          "output_type": "stream",
          "name": "stderr",
          "text": [
            "\r 68%|██████▊   | 52/77 [00:15<00:07,  3.47it/s]"
          ]
        },
        {
          "output_type": "stream",
          "name": "stdout",
          "text": [
            "Error processing 00091_00_keypoints.json: [Errno 2] No such file or directory: '/content/drive/MyDrive/data/openpose_json/00091_00_keypoints.json'\n"
          ]
        },
        {
          "output_type": "stream",
          "name": "stderr",
          "text": [
            "\r 69%|██████▉   | 53/77 [00:15<00:07,  3.34it/s]"
          ]
        },
        {
          "output_type": "stream",
          "name": "stdout",
          "text": [
            "Error processing 00092_00_keypoints.json: [Errno 2] No such file or directory: '/content/drive/MyDrive/data/openpose_json/00092_00_keypoints.json'\n"
          ]
        },
        {
          "output_type": "stream",
          "name": "stderr",
          "text": [
            "\r 70%|███████   | 54/77 [00:15<00:07,  3.04it/s]"
          ]
        },
        {
          "output_type": "stream",
          "name": "stdout",
          "text": [
            "Error processing 00093_00_keypoints.json: [Errno 2] No such file or directory: '/content/drive/MyDrive/data/openpose_json/00093_00_keypoints.json'\n"
          ]
        },
        {
          "output_type": "stream",
          "name": "stderr",
          "text": [
            "\r 71%|███████▏  | 55/77 [00:16<00:06,  3.20it/s]"
          ]
        },
        {
          "output_type": "stream",
          "name": "stdout",
          "text": [
            "Error processing 00099_00_keypoints.json: [Errno 2] No such file or directory: '/content/drive/MyDrive/data/openpose_json/00099_00_keypoints.json'\n"
          ]
        },
        {
          "output_type": "stream",
          "name": "stderr",
          "text": [
            "\r 73%|███████▎  | 56/77 [00:16<00:06,  3.46it/s]"
          ]
        },
        {
          "output_type": "stream",
          "name": "stdout",
          "text": [
            "Error processing 00100_00_keypoints.json: [Errno 2] No such file or directory: '/content/drive/MyDrive/data/openpose_json/00100_00_keypoints.json'\n"
          ]
        },
        {
          "output_type": "stream",
          "name": "stderr",
          "text": [
            "\r 74%|███████▍  | 57/77 [00:16<00:05,  3.67it/s]"
          ]
        },
        {
          "output_type": "stream",
          "name": "stdout",
          "text": [
            "Error processing 00101_00_keypoints.json: [Errno 2] No such file or directory: '/content/drive/MyDrive/data/openpose_json/00101_00_keypoints.json'\n"
          ]
        },
        {
          "output_type": "stream",
          "name": "stderr",
          "text": [
            "\r 75%|███████▌  | 58/77 [00:16<00:05,  3.71it/s]"
          ]
        },
        {
          "output_type": "stream",
          "name": "stdout",
          "text": [
            "Error processing 00102_00_keypoints.json: [Errno 2] No such file or directory: '/content/drive/MyDrive/data/openpose_json/00102_00_keypoints.json'\n"
          ]
        },
        {
          "output_type": "stream",
          "name": "stderr",
          "text": [
            "\r 77%|███████▋  | 59/77 [00:17<00:05,  3.33it/s]"
          ]
        },
        {
          "output_type": "stream",
          "name": "stdout",
          "text": [
            "Error processing 00103_00_keypoints.json: [Errno 2] No such file or directory: '/content/drive/MyDrive/data/openpose_json/00103_00_keypoints.json'\n"
          ]
        },
        {
          "output_type": "stream",
          "name": "stderr",
          "text": [
            "\r 78%|███████▊  | 60/77 [00:17<00:05,  3.05it/s]"
          ]
        },
        {
          "output_type": "stream",
          "name": "stdout",
          "text": [
            "Error processing 00105_00_keypoints.json: [Errno 2] No such file or directory: '/content/drive/MyDrive/data/openpose_json/00105_00_keypoints.json'\n"
          ]
        },
        {
          "output_type": "stream",
          "name": "stderr",
          "text": [
            "\r 79%|███████▉  | 61/77 [00:17<00:05,  2.87it/s]"
          ]
        },
        {
          "output_type": "stream",
          "name": "stdout",
          "text": [
            "Error processing 00107_00_keypoints.json: [Errno 2] No such file or directory: '/content/drive/MyDrive/data/openpose_json/00107_00_keypoints.json'\n"
          ]
        },
        {
          "output_type": "stream",
          "name": "stderr",
          "text": [
            "\r 81%|████████  | 62/77 [00:18<00:04,  3.12it/s]"
          ]
        },
        {
          "output_type": "stream",
          "name": "stdout",
          "text": [
            "Error processing 00109_00_keypoints.json: [Errno 2] No such file or directory: '/content/drive/MyDrive/data/openpose_json/00109_00_keypoints.json'\n"
          ]
        },
        {
          "output_type": "stream",
          "name": "stderr",
          "text": [
            "\r 82%|████████▏ | 63/77 [00:18<00:04,  3.07it/s]"
          ]
        },
        {
          "output_type": "stream",
          "name": "stdout",
          "text": [
            "Error processing 00111_00_keypoints.json: [Errno 2] No such file or directory: '/content/drive/MyDrive/data/openpose_json/00111_00_keypoints.json'\n"
          ]
        },
        {
          "output_type": "stream",
          "name": "stderr",
          "text": [
            "\r 83%|████████▎ | 64/77 [00:18<00:03,  3.43it/s]"
          ]
        },
        {
          "output_type": "stream",
          "name": "stdout",
          "text": [
            "Error processing 00113_00_keypoints.json: [Errno 2] No such file or directory: '/content/drive/MyDrive/data/openpose_json/00113_00_keypoints.json'\n"
          ]
        },
        {
          "output_type": "stream",
          "name": "stderr",
          "text": [
            "\r 84%|████████▍ | 65/77 [00:18<00:03,  3.76it/s]"
          ]
        },
        {
          "output_type": "stream",
          "name": "stdout",
          "text": [
            "Error processing 00115_00_keypoints.json: [Errno 2] No such file or directory: '/content/drive/MyDrive/data/openpose_json/00115_00_keypoints.json'\n"
          ]
        },
        {
          "output_type": "stream",
          "name": "stderr",
          "text": [
            "\r 86%|████████▌ | 66/77 [00:19<00:03,  3.48it/s]"
          ]
        },
        {
          "output_type": "stream",
          "name": "stdout",
          "text": [
            "Error processing 00117_00_keypoints.json: [Errno 2] No such file or directory: '/content/drive/MyDrive/data/openpose_json/00117_00_keypoints.json'\n"
          ]
        },
        {
          "output_type": "stream",
          "name": "stderr",
          "text": [
            "\r 87%|████████▋ | 67/77 [00:19<00:02,  3.36it/s]"
          ]
        },
        {
          "output_type": "stream",
          "name": "stdout",
          "text": [
            "Error processing 00119_00_keypoints.json: [Errno 2] No such file or directory: '/content/drive/MyDrive/data/openpose_json/00119_00_keypoints.json'\n"
          ]
        },
        {
          "output_type": "stream",
          "name": "stderr",
          "text": [
            "\r 88%|████████▊ | 68/77 [00:19<00:02,  3.49it/s]"
          ]
        },
        {
          "output_type": "stream",
          "name": "stdout",
          "text": [
            "Error processing 00123_00_keypoints.json: [Errno 2] No such file or directory: '/content/drive/MyDrive/data/openpose_json/00123_00_keypoints.json'\n"
          ]
        },
        {
          "output_type": "stream",
          "name": "stderr",
          "text": [
            "\r 90%|████████▉ | 69/77 [00:20<00:02,  3.72it/s]"
          ]
        },
        {
          "output_type": "stream",
          "name": "stdout",
          "text": [
            "Error processing 00124_00_keypoints.json: [Errno 2] No such file or directory: '/content/drive/MyDrive/data/openpose_json/00124_00_keypoints.json'\n"
          ]
        },
        {
          "output_type": "stream",
          "name": "stderr",
          "text": [
            "\r 91%|█████████ | 70/77 [00:20<00:02,  3.47it/s]"
          ]
        },
        {
          "output_type": "stream",
          "name": "stdout",
          "text": [
            "Error processing 00125_00_keypoints.json: [Errno 2] No such file or directory: '/content/drive/MyDrive/data/openpose_json/00125_00_keypoints.json'\n"
          ]
        },
        {
          "output_type": "stream",
          "name": "stderr",
          "text": [
            "\r 92%|█████████▏| 71/77 [00:20<00:01,  3.56it/s]"
          ]
        },
        {
          "output_type": "stream",
          "name": "stdout",
          "text": [
            "Error processing 00128_00_keypoints.json: [Errno 2] No such file or directory: '/content/drive/MyDrive/data/openpose_json/00128_00_keypoints.json'\n"
          ]
        },
        {
          "output_type": "stream",
          "name": "stderr",
          "text": [
            "\r 94%|█████████▎| 72/77 [00:21<00:01,  3.41it/s]"
          ]
        },
        {
          "output_type": "stream",
          "name": "stdout",
          "text": [
            "Error processing 00129_00_keypoints.json: [Errno 2] No such file or directory: '/content/drive/MyDrive/data/openpose_json/00129_00_keypoints.json'\n"
          ]
        },
        {
          "output_type": "stream",
          "name": "stderr",
          "text": [
            "\r 95%|█████████▍| 73/77 [00:21<00:01,  3.31it/s]"
          ]
        },
        {
          "output_type": "stream",
          "name": "stdout",
          "text": [
            "Error processing 00131_00_keypoints.json: [Errno 2] No such file or directory: '/content/drive/MyDrive/data/openpose_json/00131_00_keypoints.json'\n"
          ]
        },
        {
          "output_type": "stream",
          "name": "stderr",
          "text": [
            "\r 96%|█████████▌| 74/77 [00:21<00:00,  3.39it/s]"
          ]
        },
        {
          "output_type": "stream",
          "name": "stdout",
          "text": [
            "Error processing 00133_00_keypoints.json: [Errno 2] No such file or directory: '/content/drive/MyDrive/data/openpose_json/00133_00_keypoints.json'\n"
          ]
        },
        {
          "output_type": "stream",
          "name": "stderr",
          "text": [
            "\r 97%|█████████▋| 75/77 [00:22<00:00,  3.15it/s]"
          ]
        },
        {
          "output_type": "stream",
          "name": "stdout",
          "text": [
            "Error processing 00134_00_keypoints.json: [Errno 2] No such file or directory: '/content/drive/MyDrive/data/openpose_json/00134_00_keypoints.json'\n"
          ]
        },
        {
          "output_type": "stream",
          "name": "stderr",
          "text": [
            "\r 99%|█████████▊| 76/77 [00:22<00:00,  3.43it/s]"
          ]
        },
        {
          "output_type": "stream",
          "name": "stdout",
          "text": [
            "Error processing 00136_00_keypoints.json: [Errno 2] No such file or directory: '/content/drive/MyDrive/data/openpose_json/00136_00_keypoints.json'\n"
          ]
        },
        {
          "output_type": "stream",
          "name": "stderr",
          "text": [
            "100%|██████████| 77/77 [00:22<00:00,  3.40it/s]"
          ]
        },
        {
          "output_type": "stream",
          "name": "stdout",
          "text": [
            "Error processing 00137_00_keypoints.json: [Errno 2] No such file or directory: '/content/drive/MyDrive/data/openpose_json/00137_00_keypoints.json'\n"
          ]
        },
        {
          "output_type": "stream",
          "name": "stderr",
          "text": [
            "\n"
          ]
        }
      ],
      "source": [
        "import os\n",
        "import json\n",
        "import numpy as np\n",
        "from PIL import Image, ImageDraw\n",
        "import argparse\n",
        "from tqdm import tqdm\n",
        "\n",
        "def get_img_agnostic(img, parse, pose_data, w=768, h=1024):\n",
        "    parse_array = np.array(parse)\n",
        "    parse_head = ((parse_array == 4).astype(np.float32) +\n",
        "                  (parse_array == 13).astype(np.float32))\n",
        "    parse_lower = ((parse_array == 9).astype(np.float32) +\n",
        "                   (parse_array == 12).astype(np.float32) +\n",
        "                   (parse_array == 16).astype(np.float32) +\n",
        "                   (parse_array == 17).astype(np.float32) +\n",
        "                   (parse_array == 18).astype(np.float32) +\n",
        "                   (parse_array == 19).astype(np.float32))\n",
        "\n",
        "    r = 20\n",
        "    agnostic = img.copy()\n",
        "    agnostic_draw = ImageDraw.Draw(agnostic)\n",
        "\n",
        "    length_a = np.linalg.norm(pose_data[5] - pose_data[2])\n",
        "    length_b = np.linalg.norm(pose_data[12] - pose_data[9])\n",
        "    point = (pose_data[9] + pose_data[12]) / 2\n",
        "    pose_data[9] = point + (pose_data[9] - point) / length_b * length_a\n",
        "    pose_data[12] = point + (pose_data[12] - point) / length_b * length_a\n",
        "\n",
        "    # mask arms\n",
        "    agnostic_draw.line([tuple(pose_data[i]) for i in [2, 5]], 'gray', width=r*10)\n",
        "    for i in [2, 5]:\n",
        "        pointx, pointy = pose_data[i]\n",
        "        agnostic_draw.ellipse((pointx-r*5, pointy-r*5, pointx+r*5, pointy+r*5), 'gray', 'gray')\n",
        "    for i in [3, 4, 6, 7]:\n",
        "        if (pose_data[i - 1, 0] == 0.0 and pose_data[i - 1, 1] == 0.0) or (pose_data[i, 0] == 0.0 and pose_data[i, 1] == 0.0):\n",
        "            continue\n",
        "        agnostic_draw.line([tuple(pose_data[j]) for j in [i - 1, i]], 'gray', width=r*10)\n",
        "        pointx, pointy = pose_data[i]\n",
        "        agnostic_draw.ellipse((pointx-r*5, pointy-r*5, pointx+r*5, pointy+r*5), 'gray', 'gray')\n",
        "\n",
        "    # mask torso\n",
        "    for i in [9, 12]:\n",
        "        pointx, pointy = pose_data[i]\n",
        "        agnostic_draw.ellipse((pointx-r*3, pointy-r*6, pointx+r*3, pointy+r*6), 'gray', 'gray')\n",
        "    agnostic_draw.line([tuple(pose_data[i]) for i in [2, 9]], 'gray', width=r*6)\n",
        "    agnostic_draw.line([tuple(pose_data[i]) for i in [5, 12]], 'gray', width=r*6)\n",
        "    agnostic_draw.line([tuple(pose_data[i]) for i in [9, 12]], 'gray', width=r*12)\n",
        "    agnostic_draw.polygon([tuple(pose_data[i]) for i in [2, 5, 12, 9]], 'gray', 'gray')\n",
        "\n",
        "    # mask neck\n",
        "    pointx, pointy = pose_data[1]\n",
        "    agnostic_draw.rectangle((pointx-r*7, pointy-r*7, pointx+r*7, pointy+r*7), 'gray', 'gray')\n",
        "    agnostic.paste(img, None, Image.fromarray(np.uint8(parse_head * 255), 'L'))\n",
        "    agnostic.paste(img, None, Image.fromarray(np.uint8(parse_lower * 255), 'L'))\n",
        "\n",
        "    return agnostic\n",
        "\n",
        "\n",
        "# Modify paths for Google Colab environment\n",
        "data_path = '/content/drive/MyDrive/data'  # Adjust this path\n",
        "output_path = '/content/output/output_agnostic'  # Adjust this path\n",
        "\n",
        "os.makedirs(output_path, exist_ok=True)\n",
        "\n",
        "for im_name in tqdm(sorted(os.listdir(os.path.join(data_path, 'image')))):\n",
        "    # Load image\n",
        "    img_name = im_name\n",
        "    img = Image.open(os.path.join(data_path, 'image', img_name))\n",
        "\n",
        "    # Load pose image\n",
        "    pose_name = im_name.replace('.jpg', '_keypoints.json')\n",
        "\n",
        "    try:\n",
        "        with open(os.path.join(data_path, 'openpose_json', pose_name), 'r') as f:\n",
        "            pose_label = json.load(f)\n",
        "            pose_data = pose_label['people'][0]['pose_keypoints_2d']\n",
        "            pose_data = np.array(pose_data)\n",
        "            pose_data = pose_data.reshape((-1, 3))[:, :2]\n",
        "    except (IndexError, FileNotFoundError, KeyError) as e:\n",
        "        print(f\"Error processing {pose_name}: {e}\")\n",
        "        continue\n",
        "\n",
        "    # Load parsing image\n",
        "    parse_name = im_name.replace('.jpg', '.png')\n",
        "    parse = Image.open(os.path.join(data_path, 'image-parse-v3', parse_name))\n",
        "\n",
        "    agnostic = get_img_agnostic(img, parse, pose_data)\n",
        "\n",
        "    # Save the agnostic image\n",
        "    output_file = os.path.join(output_path, img_name)\n",
        "    agnostic.save(output_file)\n",
        "    print(f\"Saved {output_file}\")\n"
      ]
    },
    {
      "cell_type": "code",
      "source": [
        "import os\n",
        "import json\n",
        "import numpy as np\n",
        "from PIL import Image, ImageDraw\n",
        "import argparse\n",
        "from tqdm.notebook import tqdm  # Use tqdm.notebook for Colab's notebook interface\n",
        "\n",
        "# Mount Google Drive if necessary\n",
        "from google.colab import drive\n",
        "drive.mount('/content/drive')\n",
        "\n",
        "# Define paths\n",
        "data_path = '/content/drive/My Drive/data'  # Adjust with your Google Drive path\n",
        "output_path = '/content/drive/My Drive/output/output_agnostic'  # Adjust with your Google Drive path\n",
        "\n",
        "os.makedirs(output_path, exist_ok=True)\n"
      ],
      "metadata": {
        "colab": {
          "base_uri": "https://localhost:8080/"
        },
        "id": "oVm5bQ93Eus2",
        "outputId": "2084fa38-65cf-4415-ba63-121787bbae12"
      },
      "execution_count": null,
      "outputs": [
        {
          "output_type": "stream",
          "name": "stdout",
          "text": [
            "Drive already mounted at /content/drive; to attempt to forcibly remount, call drive.mount(\"/content/drive\", force_remount=True).\n"
          ]
        }
      ]
    },
    {
      "cell_type": "code",
      "source": [
        "def get_img_agnostic(img, parse, pose_data, w=768, h=1024):\n",
        "    parse_array = np.array(parse)\n",
        "    parse_head = ((parse_array == 4).astype(np.float32) +\n",
        "                  (parse_array == 13).astype(np.float32))\n",
        "    parse_lower = ((parse_array == 9).astype(np.float32) +\n",
        "                   (parse_array == 12).astype(np.float32) +\n",
        "                   (parse_array == 16).astype(np.float32) +\n",
        "                   (parse_array == 17).astype(np.float32) +\n",
        "                   (parse_array == 18).astype(np.float32) +\n",
        "                   (parse_array == 19).astype(np.float32))\n",
        "\n",
        "    r = 20\n",
        "    agnostic = img.copy()\n",
        "    agnostic_draw = ImageDraw.Draw(agnostic)\n",
        "\n",
        "    length_a = np.linalg.norm(pose_data[5] - pose_data[2])\n",
        "    length_b = np.linalg.norm(pose_data[12] - pose_data[9])\n",
        "    point = (pose_data[9] + pose_data[12]) / 2\n",
        "    pose_data[9] = point + (pose_data[9] - point) / length_b * length_a\n",
        "    pose_data[12] = point + (pose_data[12] - point) / length_b * length_a\n",
        "\n",
        "    # mask arms\n",
        "    agnostic_draw.line([tuple(pose_data[i]) for i in [2, 5]], 'gray', width=r*10)\n",
        "    for i in [2, 5]:\n",
        "        pointx, pointy = pose_data[i]\n",
        "        agnostic_draw.ellipse((pointx-r*5, pointy-r*5, pointx+r*5, pointy+r*5), 'gray', 'gray')\n",
        "    for i in [3, 4, 6, 7]:\n",
        "        if (pose_data[i - 1, 0] == 0.0 and pose_data[i - 1, 1] == 0.0) or (pose_data[i, 0] == 0.0 and pose_data[i, 1] == 0.0):\n",
        "            continue\n",
        "        agnostic_draw.line([tuple(pose_data[j]) for j in [i - 1, i]], 'gray', width=r*10)\n",
        "        pointx, pointy = pose_data[i]\n",
        "        agnostic_draw.ellipse((pointx-r*5, pointy-r*5, pointx+r*5, pointy+r*5), 'gray', 'gray')\n",
        "\n",
        "    # mask torso\n",
        "    for i in [9, 12]:\n",
        "        pointx, pointy = pose_data[i]\n",
        "        agnostic_draw.ellipse((pointx-r*3, pointy-r*6, pointx+r*3, pointy+r*6), 'gray', 'gray')\n",
        "    agnostic_draw.line([tuple(pose_data[i]) for i in [2, 9]], 'gray', width=r*6)\n",
        "    agnostic_draw.line([tuple(pose_data[i]) for i in [5, 12]], 'gray', width=r*6)\n",
        "    agnostic_draw.line([tuple(pose_data[i]) for i in [9, 12]], 'gray', width=r*12)\n",
        "    agnostic_draw.polygon([tuple(pose_data[i]) for i in [2, 5, 12, 9]], 'gray', 'gray')\n",
        "\n",
        "    # mask neck\n",
        "    pointx, pointy = pose_data[1]\n",
        "    agnostic_draw.rectangle((pointx-r*7, pointy-r*7, pointx+r*7, pointy+r*7), 'gray', 'gray')\n",
        "    agnostic.paste(img, None, Image.fromarray(np.uint8(parse_head * 255), 'L'))\n",
        "    agnostic.paste(img, None, Image.fromarray(np.uint8(parse_lower * 255), 'L'))\n",
        "\n",
        "    return agnostic\n"
      ],
      "metadata": {
        "id": "sDnC1OiNE1ds"
      },
      "execution_count": null,
      "outputs": []
    },
    {
      "cell_type": "code",
      "source": [
        "# Iterate through images in the data directory\n",
        "for im_name in tqdm(os.listdir(os.path.join(data_path, 'image'))):\n",
        "    # Load image\n",
        "    img_name = im_name\n",
        "    img = Image.open(os.path.join(data_path, 'image', img_name))\n",
        "\n",
        "    # Load pose image\n",
        "    pose_name = im_name.replace('.jpg', '_keypoints.json')\n",
        "    try:\n",
        "        with open(os.path.join(data_path, 'openpose_json', pose_name), 'r') as f:\n",
        "            pose_label = json.load(f)\n",
        "            pose_data = pose_label['people'][0]['pose_keypoints_2d']\n",
        "            pose_data = np.array(pose_data)\n",
        "            pose_data = pose_data.reshape((-1, 3))[:, :2]\n",
        "    except (IndexError, FileNotFoundError, KeyError) as e:\n",
        "        print(f\"Error processing {pose_name}: {e}\")\n",
        "        continue\n",
        "\n",
        "    # Load parsing image\n",
        "    parse_name = im_name.replace('.jpg', '.png')\n",
        "    parse = Image.open(os.path.join(data_path, 'image-parse-v3', parse_name))\n",
        "\n",
        "    # Generate agnostic image\n",
        "    agnostic = get_img_agnostic(img, parse, pose_data)\n",
        "\n",
        "    # Save the agnostic image\n",
        "    agnostic_file = os.path.join(output_path, img_name)\n",
        "    agnostic.save(agnostic_file)\n",
        "    print(f\"Saved agnostic image: {agnostic_file}\")\n",
        "\n",
        "    # Optionally, save the parse image as well\n",
        "    parse_file = os.path.join(output_path, parse_name)\n",
        "    parse.save(parse_file)\n",
        "    print(f\"Saved parse image: {parse_file}\")\n"
      ],
      "metadata": {
        "colab": {
          "base_uri": "https://localhost:8080/",
          "height": 1000,
          "referenced_widgets": [
            "6c3e45360d0b498a8fc6fb06fd250ef2",
            "52780af89dbd44bc87f59d584689900e",
            "4b34b7bb79fe4785bdfe0d57ed69e0d7",
            "28935a57937440c58faa11ecd3b97f9f",
            "f3caaeac91cb48a780c823ab9fd7e699",
            "24ad0d676d504dd5bb3d4018bfa76971",
            "5262f96a595b4626bb107ccc5f591b12",
            "418fe9af92f4489d84d2de13855c7018",
            "ad6ecfdfd875495096474da9443bfb04",
            "54656baa88dc410ebf2b83c6183fa74a",
            "524e230de55a413d96cc4b1f3a8a13c1"
          ]
        },
        "id": "zc61ZNgvE5d9",
        "outputId": "85b5de0a-987c-4d71-8871-0a54dd18b70d"
      },
      "execution_count": null,
      "outputs": [
        {
          "output_type": "display_data",
          "data": {
            "text/plain": [
              "  0%|          | 0/103 [00:00<?, ?it/s]"
            ],
            "application/vnd.jupyter.widget-view+json": {
              "version_major": 2,
              "version_minor": 0,
              "model_id": "6c3e45360d0b498a8fc6fb06fd250ef2"
            }
          },
          "metadata": {}
        },
        {
          "output_type": "stream",
          "name": "stdout",
          "text": [
            "Saved agnostic image: /content/drive/My Drive/output/output_agnostic/00101_00.jpg\n",
            "Saved parse image: /content/drive/My Drive/output/output_agnostic/00101_00.png\n",
            "Saved agnostic image: /content/drive/My Drive/output/output_agnostic/00103_00.jpg\n",
            "Saved parse image: /content/drive/My Drive/output/output_agnostic/00103_00.png\n",
            "Saved agnostic image: /content/drive/My Drive/output/output_agnostic/00011_00.jpg\n",
            "Saved parse image: /content/drive/My Drive/output/output_agnostic/00011_00.png\n",
            "Saved agnostic image: /content/drive/My Drive/output/output_agnostic/00048_00.jpg\n",
            "Saved parse image: /content/drive/My Drive/output/output_agnostic/00048_00.png\n",
            "Saved agnostic image: /content/drive/My Drive/output/output_agnostic/00003_00.jpg\n",
            "Saved parse image: /content/drive/My Drive/output/output_agnostic/00003_00.png\n",
            "Saved agnostic image: /content/drive/My Drive/output/output_agnostic/00044_00.jpg\n",
            "Saved parse image: /content/drive/My Drive/output/output_agnostic/00044_00.png\n",
            "Saved agnostic image: /content/drive/My Drive/output/output_agnostic/00072_00.jpg\n",
            "Saved parse image: /content/drive/My Drive/output/output_agnostic/00072_00.png\n",
            "Saved agnostic image: /content/drive/My Drive/output/output_agnostic/00111_00.jpg\n",
            "Saved parse image: /content/drive/My Drive/output/output_agnostic/00111_00.png\n",
            "Saved agnostic image: /content/drive/My Drive/output/output_agnostic/00023_00.jpg\n",
            "Saved parse image: /content/drive/My Drive/output/output_agnostic/00023_00.png\n",
            "Saved agnostic image: /content/drive/My Drive/output/output_agnostic/00117_00.jpg\n",
            "Saved parse image: /content/drive/My Drive/output/output_agnostic/00117_00.png\n",
            "Saved agnostic image: /content/drive/My Drive/output/output_agnostic/00025_00.jpg\n",
            "Saved parse image: /content/drive/My Drive/output/output_agnostic/00025_00.png\n",
            "Saved agnostic image: /content/drive/My Drive/output/output_agnostic/00137_00.jpg\n",
            "Saved parse image: /content/drive/My Drive/output/output_agnostic/00137_00.png\n",
            "Saved agnostic image: /content/drive/My Drive/output/output_agnostic/00054_00.jpg\n",
            "Saved parse image: /content/drive/My Drive/output/output_agnostic/00054_00.png\n",
            "Saved agnostic image: /content/drive/My Drive/output/output_agnostic/00099_00.jpg\n",
            "Saved parse image: /content/drive/My Drive/output/output_agnostic/00099_00.png\n",
            "Saved agnostic image: /content/drive/My Drive/output/output_agnostic/00058_00.jpg\n",
            "Saved parse image: /content/drive/My Drive/output/output_agnostic/00058_00.png\n",
            "Saved agnostic image: /content/drive/My Drive/output/output_agnostic/00105_00.jpg\n",
            "Saved parse image: /content/drive/My Drive/output/output_agnostic/00105_00.png\n",
            "Saved agnostic image: /content/drive/My Drive/output/output_agnostic/00009_00.jpg\n",
            "Saved parse image: /content/drive/My Drive/output/output_agnostic/00009_00.png\n",
            "Saved agnostic image: /content/drive/My Drive/output/output_agnostic/00033_00.jpg\n",
            "Saved parse image: /content/drive/My Drive/output/output_agnostic/00033_00.png\n",
            "Saved agnostic image: /content/drive/My Drive/output/output_agnostic/00109_00.jpg\n",
            "Saved parse image: /content/drive/My Drive/output/output_agnostic/00109_00.png\n",
            "Saved agnostic image: /content/drive/My Drive/output/output_agnostic/00131_00.jpg\n",
            "Saved parse image: /content/drive/My Drive/output/output_agnostic/00131_00.png\n",
            "Saved agnostic image: /content/drive/My Drive/output/output_agnostic/00093_00.jpg\n",
            "Saved parse image: /content/drive/My Drive/output/output_agnostic/00093_00.png\n",
            "Saved agnostic image: /content/drive/My Drive/output/output_agnostic/00091_00.jpg\n",
            "Saved parse image: /content/drive/My Drive/output/output_agnostic/00091_00.png\n",
            "Saved agnostic image: /content/drive/My Drive/output/output_agnostic/00113_00.jpg\n",
            "Saved parse image: /content/drive/My Drive/output/output_agnostic/00113_00.png\n",
            "Saved agnostic image: /content/drive/My Drive/output/output_agnostic/00133_00.jpg\n",
            "Saved parse image: /content/drive/My Drive/output/output_agnostic/00133_00.png\n",
            "Saved agnostic image: /content/drive/My Drive/output/output_agnostic/00001_00.jpg\n",
            "Saved parse image: /content/drive/My Drive/output/output_agnostic/00001_00.png\n",
            "Saved agnostic image: /content/drive/My Drive/output/output_agnostic/00042_00.jpg\n",
            "Saved parse image: /content/drive/My Drive/output/output_agnostic/00042_00.png\n",
            "Saved agnostic image: /content/drive/My Drive/output/output_agnostic/00050_00.jpg\n",
            "Saved parse image: /content/drive/My Drive/output/output_agnostic/00050_00.png\n",
            "Saved agnostic image: /content/drive/My Drive/output/output_agnostic/00062_00.jpg\n",
            "Saved parse image: /content/drive/My Drive/output/output_agnostic/00062_00.png\n",
            "Saved agnostic image: /content/drive/My Drive/output/output_agnostic/00052_00.jpg\n",
            "Saved parse image: /content/drive/My Drive/output/output_agnostic/00052_00.png\n",
            "Saved agnostic image: /content/drive/My Drive/output/output_agnostic/00078_00.jpg\n",
            "Saved parse image: /content/drive/My Drive/output/output_agnostic/00078_00.png\n",
            "Saved agnostic image: /content/drive/My Drive/output/output_agnostic/00005_00.jpg\n",
            "Saved parse image: /content/drive/My Drive/output/output_agnostic/00005_00.png\n",
            "Saved agnostic image: /content/drive/My Drive/output/output_agnostic/00066_00.jpg\n",
            "Saved parse image: /content/drive/My Drive/output/output_agnostic/00066_00.png\n",
            "Saved agnostic image: /content/drive/My Drive/output/output_agnostic/00031_00.jpg\n",
            "Saved parse image: /content/drive/My Drive/output/output_agnostic/00031_00.png\n",
            "Saved agnostic image: /content/drive/My Drive/output/output_agnostic/00087_00.jpg\n",
            "Saved parse image: /content/drive/My Drive/output/output_agnostic/00087_00.png\n",
            "Saved agnostic image: /content/drive/My Drive/output/output_agnostic/00046_00.jpg\n",
            "Saved parse image: /content/drive/My Drive/output/output_agnostic/00046_00.png\n",
            "Saved agnostic image: /content/drive/My Drive/output/output_agnostic/00125_00.jpg\n",
            "Saved parse image: /content/drive/My Drive/output/output_agnostic/00125_00.png\n",
            "Saved agnostic image: /content/drive/My Drive/output/output_agnostic/00029_00.jpg\n",
            "Saved parse image: /content/drive/My Drive/output/output_agnostic/00029_00.png\n",
            "Saved agnostic image: /content/drive/My Drive/output/output_agnostic/00129_00.jpg\n",
            "Saved parse image: /content/drive/My Drive/output/output_agnostic/00129_00.png\n",
            "Saved agnostic image: /content/drive/My Drive/output/output_agnostic/00083_00.jpg\n",
            "Saved parse image: /content/drive/My Drive/output/output_agnostic/00083_00.png\n",
            "Saved agnostic image: /content/drive/My Drive/output/output_agnostic/00081_00.jpg\n",
            "Saved parse image: /content/drive/My Drive/output/output_agnostic/00081_00.png\n",
            "Saved agnostic image: /content/drive/My Drive/output/output_agnostic/00056_00.jpg\n",
            "Saved parse image: /content/drive/My Drive/output/output_agnostic/00056_00.png\n",
            "Saved agnostic image: /content/drive/My Drive/output/output_agnostic/00070_00.jpg\n",
            "Saved parse image: /content/drive/My Drive/output/output_agnostic/00070_00.png\n",
            "Saved agnostic image: /content/drive/My Drive/output/output_agnostic/00012_00.jpg\n",
            "Saved parse image: /content/drive/My Drive/output/output_agnostic/00012_00.png\n",
            "Saved agnostic image: /content/drive/My Drive/output/output_agnostic/00100_00.jpg\n",
            "Saved parse image: /content/drive/My Drive/output/output_agnostic/00100_00.png\n",
            "Saved agnostic image: /content/drive/My Drive/output/output_agnostic/00124_00.jpg\n",
            "Saved parse image: /content/drive/My Drive/output/output_agnostic/00124_00.png\n",
            "Saved agnostic image: /content/drive/My Drive/output/output_agnostic/00028_00.jpg\n",
            "Saved parse image: /content/drive/My Drive/output/output_agnostic/00028_00.png\n",
            "Saved agnostic image: /content/drive/My Drive/output/output_agnostic/00128_00.jpg\n",
            "Saved parse image: /content/drive/My Drive/output/output_agnostic/00128_00.png\n",
            "Saved agnostic image: /content/drive/My Drive/output/output_agnostic/00059_00.jpg\n",
            "Saved parse image: /content/drive/My Drive/output/output_agnostic/00059_00.png\n",
            "Saved agnostic image: /content/drive/My Drive/output/output_agnostic/00136_00.jpg\n",
            "Saved parse image: /content/drive/My Drive/output/output_agnostic/00136_00.png\n",
            "Saved agnostic image: /content/drive/My Drive/output/output_agnostic/00024_00.jpg\n",
            "Saved parse image: /content/drive/My Drive/output/output_agnostic/00024_00.png\n",
            "Saved agnostic image: /content/drive/My Drive/output/output_agnostic/00047_00.jpg\n",
            "Saved parse image: /content/drive/My Drive/output/output_agnostic/00047_00.png\n",
            "Saved agnostic image: /content/drive/My Drive/output/output_agnostic/00134_00.jpg\n",
            "Saved parse image: /content/drive/My Drive/output/output_agnostic/00134_00.png\n",
            "Saved agnostic image: /content/drive/My Drive/output/output_agnostic/00092_00.jpg\n",
            "Saved parse image: /content/drive/My Drive/output/output_agnostic/00092_00.png\n",
            "Saved agnostic image: /content/drive/My Drive/output/output_agnostic/00061_00.jpg\n",
            "Saved parse image: /content/drive/My Drive/output/output_agnostic/00061_00.png\n",
            "Saved agnostic image: /content/drive/My Drive/output/output_agnostic/00002_00.jpg\n",
            "Saved parse image: /content/drive/My Drive/output/output_agnostic/00002_00.png\n",
            "Saved agnostic image: /content/drive/My Drive/output/output_agnostic/00080_00.jpg\n",
            "Saved parse image: /content/drive/My Drive/output/output_agnostic/00080_00.png\n",
            "Saved agnostic image: /content/drive/My Drive/output/output_agnostic/00102_00.jpg\n",
            "Saved parse image: /content/drive/My Drive/output/output_agnostic/00102_00.png\n",
            "Saved agnostic image: /content/drive/My Drive/output/output_agnostic/00119_00.jpg\n",
            "Saved parse image: /content/drive/My Drive/output/output_agnostic/00119_00.png\n",
            "Saved agnostic image: /content/drive/My Drive/output/output_agnostic/00015_00.jpg\n",
            "Saved parse image: /content/drive/My Drive/output/output_agnostic/00015_00.png\n",
            "Saved agnostic image: /content/drive/My Drive/output/output_agnostic/00115_00.jpg\n",
            "Saved parse image: /content/drive/My Drive/output/output_agnostic/00115_00.png\n",
            "Saved agnostic image: /content/drive/My Drive/output/output_agnostic/00068_00.jpg\n",
            "Saved parse image: /content/drive/My Drive/output/output_agnostic/00068_00.png\n",
            "Saved agnostic image: /content/drive/My Drive/output/output_agnostic/00123_00.jpg\n",
            "Saved parse image: /content/drive/My Drive/output/output_agnostic/00123_00.png\n",
            "Saved agnostic image: /content/drive/My Drive/output/output_agnostic/00089_00.jpg\n",
            "Saved parse image: /content/drive/My Drive/output/output_agnostic/00089_00.png\n",
            "Saved agnostic image: /content/drive/My Drive/output/output_agnostic/00085_00.jpg\n",
            "Saved parse image: /content/drive/My Drive/output/output_agnostic/00085_00.png\n",
            "Error processing 00000_00_keypoints.json: [Errno 2] No such file or directory: '/content/drive/My Drive/data/openpose_json/00000_00_keypoints.json'\n",
            "Saved agnostic image: /content/drive/My Drive/output/output_agnostic/00036_00.jpg\n",
            "Saved parse image: /content/drive/My Drive/output/output_agnostic/00036_00.png\n",
            "Saved agnostic image: /content/drive/My Drive/output/output_agnostic/00010_00.jpg\n",
            "Saved parse image: /content/drive/My Drive/output/output_agnostic/00010_00.png\n",
            "Saved agnostic image: /content/drive/My Drive/output/output_agnostic/00073_00.jpg\n",
            "Saved parse image: /content/drive/My Drive/output/output_agnostic/00073_00.png\n",
            "Saved agnostic image: /content/drive/My Drive/output/output_agnostic/00049_00.jpg\n",
            "Saved parse image: /content/drive/My Drive/output/output_agnostic/00049_00.png\n",
            "Saved agnostic image: /content/drive/My Drive/output/output_agnostic/00045_00.jpg\n",
            "Saved parse image: /content/drive/My Drive/output/output_agnostic/00045_00.png\n",
            "Saved agnostic image: /content/drive/My Drive/output/output_agnostic/00026_00.jpg\n",
            "Saved parse image: /content/drive/My Drive/output/output_agnostic/00026_00.png\n",
            "Saved agnostic image: /content/drive/My Drive/output/output_agnostic/00038_00.jpg\n",
            "Saved parse image: /content/drive/My Drive/output/output_agnostic/00038_00.png\n",
            "Saved agnostic image: /content/drive/My Drive/output/output_agnostic/00040_00.jpg\n",
            "Saved parse image: /content/drive/My Drive/output/output_agnostic/00040_00.png\n",
            "Saved agnostic image: /content/drive/My Drive/output/output_agnostic/00107_00.jpg\n",
            "Saved parse image: /content/drive/My Drive/output/output_agnostic/00107_00.png\n",
            "Saved agnostic image: /content/drive/My Drive/output/output_agnostic/00076_00.jpg\n",
            "Saved parse image: /content/drive/My Drive/output/output_agnostic/00076_00.png\n",
            "Saved agnostic image: /content/drive/My Drive/output/output_agnostic/00007_00.jpg\n",
            "Saved parse image: /content/drive/My Drive/output/output_agnostic/00007_00.png\n",
            "Saved agnostic image: /content/drive/My Drive/output/output_agnostic/00019_00.jpg\n",
            "Saved parse image: /content/drive/My Drive/output/output_agnostic/00019_00.png\n",
            "Saved agnostic image: /content/drive/My Drive/output/output_agnostic/00022_00.jpg\n",
            "Saved parse image: /content/drive/My Drive/output/output_agnostic/00022_00.png\n",
            "Saved agnostic image: /content/drive/My Drive/output/output_agnostic/00077_00.jpg\n",
            "Saved parse image: /content/drive/My Drive/output/output_agnostic/00077_00.png\n",
            "Saved agnostic image: /content/drive/My Drive/output/output_agnostic/00106_00.jpg\n",
            "Saved parse image: /content/drive/My Drive/output/output_agnostic/00106_00.png\n",
            "Saved agnostic image: /content/drive/My Drive/output/output_agnostic/00130_00.jpg\n",
            "Saved parse image: /content/drive/My Drive/output/output_agnostic/00130_00.png\n",
            "Saved agnostic image: /content/drive/My Drive/output/output_agnostic/00132_00.jpg\n",
            "Saved parse image: /content/drive/My Drive/output/output_agnostic/00132_00.png\n",
            "Saved agnostic image: /content/drive/My Drive/output/output_agnostic/00016_00.jpg\n",
            "Saved parse image: /content/drive/My Drive/output/output_agnostic/00016_00.png\n",
            "Saved agnostic image: /content/drive/My Drive/output/output_agnostic/00104_00.jpg\n",
            "Saved parse image: /content/drive/My Drive/output/output_agnostic/00104_00.png\n",
            "Saved agnostic image: /content/drive/My Drive/output/output_agnostic/00032_00.jpg\n",
            "Saved parse image: /content/drive/My Drive/output/output_agnostic/00032_00.png\n",
            "Saved agnostic image: /content/drive/My Drive/output/output_agnostic/00079_00.jpg\n",
            "Saved parse image: /content/drive/My Drive/output/output_agnostic/00079_00.png\n",
            "Saved agnostic image: /content/drive/My Drive/output/output_agnostic/00120_00.jpg\n",
            "Saved parse image: /content/drive/My Drive/output/output_agnostic/00120_00.png\n",
            "Saved agnostic image: /content/drive/My Drive/output/output_agnostic/00118_00.jpg\n",
            "Saved parse image: /content/drive/My Drive/output/output_agnostic/00118_00.png\n",
            "Saved agnostic image: /content/drive/My Drive/output/output_agnostic/00065_00.jpg\n",
            "Saved parse image: /content/drive/My Drive/output/output_agnostic/00065_00.png\n",
            "Saved agnostic image: /content/drive/My Drive/output/output_agnostic/00014_00.jpg\n",
            "Saved parse image: /content/drive/My Drive/output/output_agnostic/00014_00.png\n",
            "Saved agnostic image: /content/drive/My Drive/output/output_agnostic/00018_00.jpg\n",
            "Saved parse image: /content/drive/My Drive/output/output_agnostic/00018_00.png\n",
            "Saved agnostic image: /content/drive/My Drive/output/output_agnostic/00122_00.jpg\n",
            "Saved parse image: /content/drive/My Drive/output/output_agnostic/00122_00.png\n",
            "Saved agnostic image: /content/drive/My Drive/output/output_agnostic/00088_00.jpg\n",
            "Saved parse image: /content/drive/My Drive/output/output_agnostic/00088_00.png\n",
            "Saved agnostic image: /content/drive/My Drive/output/output_agnostic/00051_00.jpg\n",
            "Saved parse image: /content/drive/My Drive/output/output_agnostic/00051_00.png\n",
            "Saved agnostic image: /content/drive/My Drive/output/output_agnostic/00030_00.jpg\n",
            "Saved parse image: /content/drive/My Drive/output/output_agnostic/00030_00.png\n",
            "Saved agnostic image: /content/drive/My Drive/output/output_agnostic/00082_00.jpg\n",
            "Saved parse image: /content/drive/My Drive/output/output_agnostic/00082_00.png\n",
            "Saved agnostic image: /content/drive/My Drive/output/output_agnostic/00086_00.jpg\n",
            "Saved parse image: /content/drive/My Drive/output/output_agnostic/00086_00.png\n",
            "Saved agnostic image: /content/drive/My Drive/output/output_agnostic/00090_00.jpg\n",
            "Saved parse image: /content/drive/My Drive/output/output_agnostic/00090_00.png\n",
            "Saved agnostic image: /content/drive/My Drive/output/output_agnostic/00041_00.jpg\n",
            "Saved parse image: /content/drive/My Drive/output/output_agnostic/00041_00.png\n",
            "Saved agnostic image: /content/drive/My Drive/output/output_agnostic/00053_00.jpg\n",
            "Saved parse image: /content/drive/My Drive/output/output_agnostic/00053_00.png\n",
            "Saved agnostic image: /content/drive/My Drive/output/output_agnostic/00114_00.jpg\n",
            "Saved parse image: /content/drive/My Drive/output/output_agnostic/00114_00.png\n",
            "Saved agnostic image: /content/drive/My Drive/output/output_agnostic/00098_00.jpg\n",
            "Saved parse image: /content/drive/My Drive/output/output_agnostic/00098_00.png\n",
            "Saved agnostic image: /content/drive/My Drive/output/output_agnostic/00043_00.jpg\n",
            "Saved parse image: /content/drive/My Drive/output/output_agnostic/00043_00.png\n"
          ]
        }
      ]
    }
  ]
}